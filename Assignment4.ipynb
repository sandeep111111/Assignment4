{
 "cells": [
  {
   "cell_type": "code",
   "execution_count": 17,
   "id": "4f46be4d-bc93-4fb7-a42a-bb4f2fff5a66",
   "metadata": {},
   "outputs": [],
   "source": [
    "#Ans 1:\n",
    "#def keyword is used to define function\n",
    "def odd_num():\n",
    "    l=[]\n",
    "    for i in range(1,26):\n",
    "        if(i%2!=0):\n",
    "            l.append(i)\n",
    "    return l\n"
   ]
  },
  {
   "cell_type": "code",
   "execution_count": 20,
   "id": "2123a138-b8e5-4eb1-b1e6-93bfeb093dc9",
   "metadata": {},
   "outputs": [
    {
     "data": {
      "text/plain": [
       "[1, 3, 5, 7, 9, 11, 13, 15, 17, 19, 21, 23, 25]"
      ]
     },
     "execution_count": 20,
     "metadata": {},
     "output_type": "execute_result"
    }
   ],
   "source": [
    "odd_num()"
   ]
  },
  {
   "cell_type": "code",
   "execution_count": 19,
   "id": "e685ab5c-60fc-461b-ba30-ffd179b92f09",
   "metadata": {},
   "outputs": [],
   "source": [
    "#Ans 2:\n",
    "#(*args) it is used for many arguments when we don't know how many arguent we pass in function\n",
    "#(**kwargs) it is used for keys and values in dictionary\n",
    "def args_func(*arg):\n",
    "    return arg\n",
    "def kwargs_func(**kwarg):\n",
    "    return kwarg"
   ]
  },
  {
   "cell_type": "code",
   "execution_count": 13,
   "id": "277d92fa-385b-4884-90c1-458275834627",
   "metadata": {},
   "outputs": [
    {
     "data": {
      "text/plain": [
       "((5, 43), 6, (5, 43), 6)"
      ]
     },
     "execution_count": 13,
     "metadata": {},
     "output_type": "execute_result"
    }
   ],
   "source": [
    "args_func((5,43),6)"
   ]
  },
  {
   "cell_type": "code",
   "execution_count": 21,
   "id": "45c2cd0c-7783-48d7-be4c-1353d39f3263",
   "metadata": {},
   "outputs": [
    {
     "data": {
      "text/plain": [
       "{'a': 'sandeep', 'b': 'patel', 'c': 'btech', 'd': 'cse'}"
      ]
     },
     "execution_count": 21,
     "metadata": {},
     "output_type": "execute_result"
    }
   ],
   "source": [
    "kwargs_func(a='sandeep',b='patel',c='btech',d='cse')"
   ]
  },
  {
   "cell_type": "code",
   "execution_count": 40,
   "id": "01949b57-5be0-4301-a336-29bc10f7af85",
   "metadata": {},
   "outputs": [],
   "source": [
    "#Ans 3:\n",
    "#Iterator in Python is an object that is used to iterate over iterable objects like lists, tuples, dicts, and sets.\n",
    "#The iterator object is initialized using the iter() method.It uses the next() method for iteration\n",
    "#__iter__(): The iter() method is called for the initialization of an iterator. This returns an iterator object\n",
    "#__next__(): The next method returns the next value for the iterable. When we use a for loop to traverse any iterable object,\n",
    "#internally it uses the iter() method to get an iterator object, which further uses the next() method to iterate over. \n",
    "#This method raises a StopIteration to signal the end of the iteration.\n",
    "l=[2, 4, 6, 8, 10, 12, 14,  16, 18, 20]\n",
    "def iter_method(l):\n",
    "    l=iter(l)\n",
    "    for i in range(5):\n",
    "        print(next(l))\n",
    "    \n",
    "    "
   ]
  },
  {
   "cell_type": "code",
   "execution_count": 41,
   "id": "db1a174e-cb3d-4254-a22c-377e98fe6925",
   "metadata": {},
   "outputs": [
    {
     "name": "stdout",
     "output_type": "stream",
     "text": [
      "2\n",
      "4\n",
      "6\n",
      "8\n",
      "10\n"
     ]
    }
   ],
   "source": [
    "(iter_method(l))"
   ]
  },
  {
   "cell_type": "code",
   "execution_count": 43,
   "id": "4e1edb7c-8551-45a3-aba8-61c5e69901df",
   "metadata": {},
   "outputs": [],
   "source": [
    "#Ans 4:\n",
    "#Generator function in Python is a function that is commonly used to return a sequence of values.\n",
    "#Generator function behaves like a normal function but rather it uses a yield statement to return a value instead of return statement. \n",
    "#If the body of a function contains yield statement, the function automatically becomes a generator function.\n",
    "l=[1,2,3,4,5,6,7,8,9,10]\n",
    "def squre(l):\n",
    "    for i in l:\n",
    "        yield i**2\n",
    "        \n",
    "    "
   ]
  },
  {
   "cell_type": "code",
   "execution_count": 44,
   "id": "33ba9f0a-ab70-4aa5-ae38-fce83b5c4b11",
   "metadata": {},
   "outputs": [
    {
     "data": {
      "text/plain": [
       "<generator object squre at 0x7fe914270740>"
      ]
     },
     "execution_count": 44,
     "metadata": {},
     "output_type": "execute_result"
    }
   ],
   "source": [
    "squre(l)"
   ]
  },
  {
   "cell_type": "code",
   "execution_count": 47,
   "id": "6d45d69b-4018-4ecf-b3f7-08a3775e1d0b",
   "metadata": {},
   "outputs": [
    {
     "name": "stdout",
     "output_type": "stream",
     "text": [
      "1\n",
      "4\n",
      "9\n",
      "16\n",
      "25\n",
      "36\n",
      "49\n",
      "64\n",
      "81\n",
      "100\n"
     ]
    }
   ],
   "source": [
    "for i in squre(l):\n",
    "    print(i)\n",
    "    "
   ]
  },
  {
   "cell_type": "code",
   "execution_count": 55,
   "id": "445a6e7d-e359-43e6-9d01-97e5ab558138",
   "metadata": {},
   "outputs": [],
   "source": [
    "#Ans 5:\n",
    "def prime_num():\n",
    "    for n in range(1,1000):\n",
    "        f=0\n",
    "        for i in range(1,n):\n",
    "            if n%i==0 or n==2:\n",
    "                f+=1\n",
    "        if(f==1):\n",
    "            yield n\n",
    "                "
   ]
  },
  {
   "cell_type": "code",
   "execution_count": 59,
   "id": "5a1b5514-6bb5-4448-9850-b685f1756867",
   "metadata": {},
   "outputs": [],
   "source": [
    "l=list(prime_num())\n",
    "l1=iter(l)"
   ]
  },
  {
   "cell_type": "code",
   "execution_count": 60,
   "id": "5ffdb6a2-80df-49b6-9f8b-d119b672287a",
   "metadata": {},
   "outputs": [
    {
     "name": "stdout",
     "output_type": "stream",
     "text": [
      "2\n",
      "3\n",
      "5\n",
      "7\n",
      "11\n",
      "13\n",
      "17\n",
      "19\n",
      "23\n",
      "29\n",
      "31\n",
      "37\n",
      "41\n",
      "43\n",
      "47\n",
      "53\n",
      "59\n",
      "61\n",
      "67\n",
      "71\n"
     ]
    }
   ],
   "source": [
    "for i in range(20):\n",
    "    print(next(l1))"
   ]
  },
  {
   "cell_type": "code",
   "execution_count": 63,
   "id": "02884b7d-ae1e-4705-b494-f270fd51fbb6",
   "metadata": {},
   "outputs": [],
   "source": [
    "#Ans 6:\n",
    "def fab_series(n):\n",
    "    a,b=0,1\n",
    "    count=1\n",
    "    while count<=n:\n",
    "        print(a)\n",
    "        a=b\n",
    "        b=a+b\n",
    "        count+=1\n"
   ]
  },
  {
   "cell_type": "code",
   "execution_count": 64,
   "id": "ba17a275-889d-4639-9930-212080f3f824",
   "metadata": {},
   "outputs": [
    {
     "name": "stdout",
     "output_type": "stream",
     "text": [
      "0\n",
      "1\n",
      "2\n",
      "4\n",
      "8\n",
      "16\n",
      "32\n",
      "64\n",
      "128\n",
      "256\n",
      "512\n",
      "1024\n",
      "2048\n",
      "4096\n",
      "8192\n",
      "16384\n",
      "32768\n",
      "65536\n",
      "131072\n",
      "262144\n"
     ]
    }
   ],
   "source": [
    "fab_series(20)"
   ]
  },
  {
   "cell_type": "code",
   "execution_count": 65,
   "id": "30546e12-ffcd-4da0-919d-d574c1364a4a",
   "metadata": {},
   "outputs": [
    {
     "data": {
      "text/plain": [
       "['p', 'w', 's', 'k', 'i', 'l', 'l', 's']"
      ]
     },
     "execution_count": 65,
     "metadata": {},
     "output_type": "execute_result"
    }
   ],
   "source": [
    "#Ans7:\n",
    "s='pwskills'\n",
    "[i for i in s]"
   ]
  },
  {
   "cell_type": "code",
   "execution_count": 70,
   "id": "294a3aab-0ba4-49f7-a985-c7ec35477cc7",
   "metadata": {},
   "outputs": [],
   "source": [
    "#Ans 8:\n",
    "def palindrom(n):\n",
    "    if(type(n)==int):\n",
    "        temp=n\n",
    "        palind=0\n",
    "        while n>0:\n",
    "            r=n%10\n",
    "            palind=palind*10+r\n",
    "            n=n//10\n",
    "        if(temp==palind):\n",
    "            print('this is palindrom')\n",
    "        else :\n",
    "            print('this is not palindrom')\n",
    "    elif (type(n)==str):\n",
    "        if(n==n[::-1]):\n",
    "            print('this is palindrom')\n",
    "        else:\n",
    "            print('this is not palindrom')"
   ]
  },
  {
   "cell_type": "code",
   "execution_count": 73,
   "id": "53da382f-446c-4476-a69f-9dd292de2603",
   "metadata": {},
   "outputs": [
    {
     "name": "stdout",
     "output_type": "stream",
     "text": [
      "this is palindrom\n"
     ]
    }
   ],
   "source": [
    "palindrom(12321)"
   ]
  },
  {
   "cell_type": "code",
   "execution_count": 74,
   "id": "db896c0e-e0dd-40c5-bee3-cabb00560d98",
   "metadata": {},
   "outputs": [
    {
     "name": "stdout",
     "output_type": "stream",
     "text": [
      "this is palindrom\n"
     ]
    }
   ],
   "source": [
    "palindrom('madam')"
   ]
  },
  {
   "cell_type": "code",
   "execution_count": 75,
   "id": "63f22824-b87f-4325-91ee-0cb47d7ed5dc",
   "metadata": {},
   "outputs": [
    {
     "data": {
      "text/plain": [
       "[1,\n",
       " 3,\n",
       " 5,\n",
       " 7,\n",
       " 9,\n",
       " 11,\n",
       " 13,\n",
       " 15,\n",
       " 17,\n",
       " 19,\n",
       " 21,\n",
       " 23,\n",
       " 25,\n",
       " 27,\n",
       " 29,\n",
       " 31,\n",
       " 33,\n",
       " 35,\n",
       " 37,\n",
       " 39,\n",
       " 41,\n",
       " 43,\n",
       " 45,\n",
       " 47,\n",
       " 49,\n",
       " 51,\n",
       " 53,\n",
       " 55,\n",
       " 57,\n",
       " 59,\n",
       " 61,\n",
       " 63,\n",
       " 65,\n",
       " 67,\n",
       " 69,\n",
       " 71,\n",
       " 73,\n",
       " 75,\n",
       " 77,\n",
       " 79,\n",
       " 81,\n",
       " 83,\n",
       " 85,\n",
       " 87,\n",
       " 89,\n",
       " 91,\n",
       " 93,\n",
       " 95,\n",
       " 97,\n",
       " 99]"
      ]
     },
     "execution_count": 75,
     "metadata": {},
     "output_type": "execute_result"
    }
   ],
   "source": [
    "#Ans 9:\n",
    "[i for i in range(1,100) if(i%2!=0)]"
   ]
  },
  {
   "cell_type": "code",
   "execution_count": 76,
   "id": "0a0773ed-950e-488c-a80c-5b2fa4874885",
   "metadata": {},
   "outputs": [],
   "source": [
    "l=[i for i in range(1,101)]\n",
    "list(filter(lambda "
   ]
  },
  {
   "cell_type": "code",
   "execution_count": 77,
   "id": "a4ab9ed0-56ce-499a-b9d8-6609ceecac4a",
   "metadata": {},
   "outputs": [
    {
     "data": {
      "text/plain": [
       "[1,\n",
       " 2,\n",
       " 3,\n",
       " 4,\n",
       " 5,\n",
       " 6,\n",
       " 7,\n",
       " 8,\n",
       " 9,\n",
       " 10,\n",
       " 11,\n",
       " 12,\n",
       " 13,\n",
       " 14,\n",
       " 15,\n",
       " 16,\n",
       " 17,\n",
       " 18,\n",
       " 19,\n",
       " 20,\n",
       " 21,\n",
       " 22,\n",
       " 23,\n",
       " 24,\n",
       " 25,\n",
       " 26,\n",
       " 27,\n",
       " 28,\n",
       " 29,\n",
       " 30,\n",
       " 31,\n",
       " 32,\n",
       " 33,\n",
       " 34,\n",
       " 35,\n",
       " 36,\n",
       " 37,\n",
       " 38,\n",
       " 39,\n",
       " 40,\n",
       " 41,\n",
       " 42,\n",
       " 43,\n",
       " 44,\n",
       " 45,\n",
       " 46,\n",
       " 47,\n",
       " 48,\n",
       " 49,\n",
       " 50,\n",
       " 51,\n",
       " 52,\n",
       " 53,\n",
       " 54,\n",
       " 55,\n",
       " 56,\n",
       " 57,\n",
       " 58,\n",
       " 59,\n",
       " 60,\n",
       " 61,\n",
       " 62,\n",
       " 63,\n",
       " 64,\n",
       " 65,\n",
       " 66,\n",
       " 67,\n",
       " 68,\n",
       " 69,\n",
       " 70,\n",
       " 71,\n",
       " 72,\n",
       " 73,\n",
       " 74,\n",
       " 75,\n",
       " 76,\n",
       " 77,\n",
       " 78,\n",
       " 79,\n",
       " 80,\n",
       " 81,\n",
       " 82,\n",
       " 83,\n",
       " 84,\n",
       " 85,\n",
       " 86,\n",
       " 87,\n",
       " 88,\n",
       " 89,\n",
       " 90,\n",
       " 91,\n",
       " 92,\n",
       " 93,\n",
       " 94,\n",
       " 95,\n",
       " 96,\n",
       " 97,\n",
       " 98,\n",
       " 99,\n",
       " 100]"
      ]
     },
     "execution_count": 77,
     "metadata": {},
     "output_type": "execute_result"
    }
   ],
   "source": [
    "l"
   ]
  },
  {
   "cell_type": "code",
   "execution_count": null,
   "id": "61afaff3-4f8c-4831-9876-39a6b2e8af4d",
   "metadata": {},
   "outputs": [],
   "source": []
  }
 ],
 "metadata": {
  "kernelspec": {
   "display_name": "Python 3 (ipykernel)",
   "language": "python",
   "name": "python3"
  },
  "language_info": {
   "codemirror_mode": {
    "name": "ipython",
    "version": 3
   },
   "file_extension": ".py",
   "mimetype": "text/x-python",
   "name": "python",
   "nbconvert_exporter": "python",
   "pygments_lexer": "ipython3",
   "version": "3.10.8"
  }
 },
 "nbformat": 4,
 "nbformat_minor": 5
}
